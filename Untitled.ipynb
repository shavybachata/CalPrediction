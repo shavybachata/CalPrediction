{
 "cells": [
  {
   "cell_type": "code",
   "execution_count": 3,
   "id": "8cd952e9",
   "metadata": {},
   "outputs": [
    {
     "name": "stdout",
     "output_type": "stream",
     "text": [
      "lr  MSE: 131.99574575081692, Score: 0.9672937151257295\n",
      "rd  MSE: 131.99625903139332, Score: 0.9672935879435945\n",
      "ls  MSE: 143.8268946117507, Score: 0.9643621590908397\n",
      "dtr  MSE: 28.573666666666668, Score: 0.992919934831334\n",
      "rfr  MSE: 7.205539599999999, Score: 0.9982145907090421\n"
     ]
    }
   ],
   "source": [
    "import numpy as np\n",
    "import pandas as pd\n",
    "import seaborn as sns\n",
    "import matplotlib.pyplot as plt\n",
    "\n",
    "calories = pd.read_csv('calories.csv')\n",
    "exercise = pd.read_csv('exercise.csv')\n",
    "\n",
    "\n",
    "df = exercise.merge(calories, on='User_ID')\n",
    "\n",
    "# Bivariate and Multivariate Analysis\n",
    "\n",
    "# Bar Plot (Numerical - Categorical)\n",
    "#sns.barplot(x=df['Gender'], y=df['Calories'])\n",
    "\n",
    "#Scatter plot\n",
    "#sns.scatterplot(x=df[\"Duration\"],y=df[\"Calories\"])\n",
    "\n",
    "# Boxplot (numerical to categorical)\n",
    "#sns.boxplot(x=df['Gender'], y=df['Age'])\n",
    "\n",
    "# Distplot (Numerical - Categorical)\n",
    "#sns.displot(df[df['Gender']=='Male']['Age'])\n",
    "\n",
    "# Lineplot (Numerical - Numerical)\n",
    "#sns.lineplot(df['Age'], df['Calories'])\n",
    "\n",
    "# Encoding\n",
    "df['Gender'] = df['Gender'].map({'male': 1, 'female': 0})\n",
    "\n",
    "# Train test split\n",
    "X = df.drop(['User_ID', 'Calories'], axis=1)\n",
    "y = df['Calories']\n",
    "\n",
    "from sklearn.model_selection import train_test_split\n",
    "\n",
    "X_train, X_test, y_train, y_test = train_test_split(X, y, test_size=0.2, random_state=42)\n",
    "\n",
    "# Training Model\n",
    "from sklearn.linear_model import LinearRegression, Ridge, Lasso\n",
    "from sklearn.tree import DecisionTreeRegressor\n",
    "from sklearn.ensemble import RandomForestRegressor\n",
    "from sklearn.metrics import r2_score, mean_squared_error\n",
    "\n",
    "models = {\n",
    "    'lr': LinearRegression(),\n",
    "    'rd': Ridge(),\n",
    "    'ls': Lasso(),\n",
    "    'dtr': DecisionTreeRegressor(),\n",
    "    'rfr': RandomForestRegressor()\n",
    "}\n",
    "\n",
    "for name, mod in models.items():\n",
    "    mod.fit(X_train, y_train)\n",
    "    y_pred = mod.predict(X_test)\n",
    "\n",
    "    print(f\"{name}  MSE: {mean_squared_error(y_test, y_pred)}, Score: {r2_score(y_test, y_pred)}\")\n",
    "\n",
    "rfr = RandomForestRegressor()\n",
    "rfr.fit(X_train, y_train)\n",
    "y_pred = rfr.predict(X_test)\n",
    "\n",
    "import pickle\n",
    "\n",
    "pickle.dump(rfr, open('rfr.pkl', 'wb'))\n",
    "X_train.to_csv('X_train.csv')"
   ]
  },
  {
   "cell_type": "code",
   "execution_count": 4,
   "id": "1db43925",
   "metadata": {},
   "outputs": [],
   "source": [
    "import pickle\n",
    "\n",
    "pickle.dump(rfr, open('rfr.pkl', 'wb'))\n",
    "X_train.to_csv('X_train.csv')"
   ]
  },
  {
   "cell_type": "code",
   "execution_count": null,
   "id": "9708eaf4",
   "metadata": {},
   "outputs": [],
   "source": []
  }
 ],
 "metadata": {
  "kernelspec": {
   "display_name": "Python 3 (ipykernel)",
   "language": "python",
   "name": "python3"
  },
  "language_info": {
   "codemirror_mode": {
    "name": "ipython",
    "version": 3
   },
   "file_extension": ".py",
   "mimetype": "text/x-python",
   "name": "python",
   "nbconvert_exporter": "python",
   "pygments_lexer": "ipython3",
   "version": "3.10.9"
  }
 },
 "nbformat": 4,
 "nbformat_minor": 5
}
